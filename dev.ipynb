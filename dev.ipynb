{
 "cells": [
  {
   "cell_type": "code",
   "execution_count": 6,
   "metadata": {},
   "outputs": [
    {
     "name": "stdout",
     "output_type": "stream",
     "text": [
      "Collecting dagshub\n",
      "  Downloading dagshub-0.3.45-py3-none-any.whl.metadata (11 kB)\n",
      "Requirement already satisfied: PyYAML>=5 in /home/kagmajn/um/env/lib/python3.12/site-packages (from dagshub) (6.0.2)\n",
      "Collecting appdirs>=1.4.4 (from dagshub)\n",
      "  Downloading appdirs-1.4.4-py2.py3-none-any.whl.metadata (9.0 kB)\n",
      "Requirement already satisfied: click>=8.0.4 in /home/kagmajn/um/env/lib/python3.12/site-packages (from dagshub) (8.1.7)\n",
      "Requirement already satisfied: httpx>=0.23.0 in /home/kagmajn/um/env/lib/python3.12/site-packages (from dagshub) (0.27.2)\n",
      "Requirement already satisfied: GitPython>=3.1.29 in /home/kagmajn/um/env/lib/python3.12/site-packages (from dagshub) (3.1.43)\n",
      "Requirement already satisfied: rich>=13.1.0 in /home/kagmajn/um/env/lib/python3.12/site-packages (from dagshub) (13.9.4)\n",
      "Collecting dacite~=1.6.0 (from dagshub)\n",
      "  Downloading dacite-1.6.0-py3-none-any.whl.metadata (14 kB)\n",
      "Requirement already satisfied: tenacity>=8.2.2 in /home/kagmajn/um/env/lib/python3.12/site-packages (from dagshub) (9.0.0)\n",
      "Collecting gql[requests] (from dagshub)\n",
      "  Downloading gql-3.5.0-py2.py3-none-any.whl.metadata (9.2 kB)\n",
      "Requirement already satisfied: dataclasses-json in /home/kagmajn/um/env/lib/python3.12/site-packages (from dagshub) (0.6.7)\n",
      "Requirement already satisfied: pandas in /home/kagmajn/um/env/lib/python3.12/site-packages (from dagshub) (2.2.3)\n",
      "Collecting treelib>=1.6.4 (from dagshub)\n",
      "  Downloading treelib-1.7.0-py3-none-any.whl.metadata (1.3 kB)\n",
      "Collecting pathvalidate>=3.0.0 (from dagshub)\n",
      "  Downloading pathvalidate-3.2.1-py3-none-any.whl.metadata (12 kB)\n",
      "Requirement already satisfied: python-dateutil in /home/kagmajn/um/env/lib/python3.12/site-packages (from dagshub) (2.9.0.post0)\n",
      "Requirement already satisfied: boto3 in /home/kagmajn/um/env/lib/python3.12/site-packages (from dagshub) (1.35.66)\n",
      "Collecting dagshub-annotation-converter>=0.1.0 (from dagshub)\n",
      "  Downloading dagshub_annotation_converter-0.1.2-py3-none-any.whl.metadata (2.5 kB)\n",
      "Requirement already satisfied: lxml in /home/kagmajn/um/env/lib/python3.12/site-packages (from dagshub-annotation-converter>=0.1.0->dagshub) (5.3.0)\n",
      "Requirement already satisfied: pillow in /home/kagmajn/um/env/lib/python3.12/site-packages (from dagshub-annotation-converter>=0.1.0->dagshub) (10.3.0)\n",
      "Requirement already satisfied: pydantic>=2.0.0 in /home/kagmajn/um/env/lib/python3.12/site-packages (from dagshub-annotation-converter>=0.1.0->dagshub) (2.9.2)\n",
      "Requirement already satisfied: typing-extensions in /home/kagmajn/um/env/lib/python3.12/site-packages (from dagshub-annotation-converter>=0.1.0->dagshub) (4.12.2)\n",
      "Requirement already satisfied: gitdb<5,>=4.0.1 in /home/kagmajn/um/env/lib/python3.12/site-packages (from GitPython>=3.1.29->dagshub) (4.0.11)\n",
      "Requirement already satisfied: anyio in /home/kagmajn/um/env/lib/python3.12/site-packages (from httpx>=0.23.0->dagshub) (4.6.2.post1)\n",
      "Requirement already satisfied: certifi in /home/kagmajn/um/env/lib/python3.12/site-packages (from httpx>=0.23.0->dagshub) (2024.8.30)\n",
      "Requirement already satisfied: httpcore==1.* in /home/kagmajn/um/env/lib/python3.12/site-packages (from httpx>=0.23.0->dagshub) (1.0.6)\n",
      "Requirement already satisfied: idna in /home/kagmajn/um/env/lib/python3.12/site-packages (from httpx>=0.23.0->dagshub) (3.10)\n",
      "Requirement already satisfied: sniffio in /home/kagmajn/um/env/lib/python3.12/site-packages (from httpx>=0.23.0->dagshub) (1.3.1)\n",
      "Requirement already satisfied: h11<0.15,>=0.13 in /home/kagmajn/um/env/lib/python3.12/site-packages (from httpcore==1.*->httpx>=0.23.0->dagshub) (0.14.0)\n",
      "Requirement already satisfied: markdown-it-py>=2.2.0 in /home/kagmajn/um/env/lib/python3.12/site-packages (from rich>=13.1.0->dagshub) (3.0.0)\n",
      "Requirement already satisfied: pygments<3.0.0,>=2.13.0 in /home/kagmajn/um/env/lib/python3.12/site-packages (from rich>=13.1.0->dagshub) (2.18.0)\n",
      "Requirement already satisfied: six in /home/kagmajn/um/env/lib/python3.12/site-packages (from treelib>=1.6.4->dagshub) (1.16.0)\n",
      "Requirement already satisfied: botocore<1.36.0,>=1.35.66 in /home/kagmajn/um/env/lib/python3.12/site-packages (from boto3->dagshub) (1.35.66)\n",
      "Requirement already satisfied: jmespath<2.0.0,>=0.7.1 in /home/kagmajn/um/env/lib/python3.12/site-packages (from boto3->dagshub) (1.0.1)\n",
      "Requirement already satisfied: s3transfer<0.11.0,>=0.10.0 in /home/kagmajn/um/env/lib/python3.12/site-packages (from boto3->dagshub) (0.10.4)\n",
      "Requirement already satisfied: marshmallow<4.0.0,>=3.18.0 in /home/kagmajn/um/env/lib/python3.12/site-packages (from dataclasses-json->dagshub) (3.23.1)\n",
      "Requirement already satisfied: typing-inspect<1,>=0.4.0 in /home/kagmajn/um/env/lib/python3.12/site-packages (from dataclasses-json->dagshub) (0.9.0)\n",
      "Requirement already satisfied: graphql-core<3.3,>=3.2 in /home/kagmajn/um/env/lib/python3.12/site-packages (from gql[requests]->dagshub) (3.2.5)\n",
      "Requirement already satisfied: yarl<2.0,>=1.6 in /home/kagmajn/um/env/lib/python3.12/site-packages (from gql[requests]->dagshub) (1.17.1)\n",
      "Collecting backoff<3.0,>=1.11.1 (from gql[requests]->dagshub)\n",
      "  Downloading backoff-2.2.1-py3-none-any.whl.metadata (14 kB)\n",
      "Requirement already satisfied: requests<3,>=2.26 in /home/kagmajn/um/env/lib/python3.12/site-packages (from gql[requests]->dagshub) (2.32.3)\n",
      "Requirement already satisfied: requests-toolbelt<2,>=1.0.0 in /home/kagmajn/um/env/lib/python3.12/site-packages (from gql[requests]->dagshub) (1.0.0)\n",
      "Requirement already satisfied: numpy>=1.26.0 in /home/kagmajn/um/env/lib/python3.12/site-packages (from pandas->dagshub) (1.26.4)\n",
      "Requirement already satisfied: pytz>=2020.1 in /home/kagmajn/um/env/lib/python3.12/site-packages (from pandas->dagshub) (2024.2)\n",
      "Requirement already satisfied: tzdata>=2022.7 in /home/kagmajn/um/env/lib/python3.12/site-packages (from pandas->dagshub) (2024.2)\n",
      "Requirement already satisfied: urllib3!=2.2.0,<3,>=1.25.4 in /home/kagmajn/um/env/lib/python3.12/site-packages (from botocore<1.36.0,>=1.35.66->boto3->dagshub) (2.2.3)\n",
      "Requirement already satisfied: smmap<6,>=3.0.1 in /home/kagmajn/um/env/lib/python3.12/site-packages (from gitdb<5,>=4.0.1->GitPython>=3.1.29->dagshub) (5.0.1)\n",
      "Requirement already satisfied: mdurl~=0.1 in /home/kagmajn/um/env/lib/python3.12/site-packages (from markdown-it-py>=2.2.0->rich>=13.1.0->dagshub) (0.1.2)\n",
      "Requirement already satisfied: packaging>=17.0 in /home/kagmajn/um/env/lib/python3.12/site-packages (from marshmallow<4.0.0,>=3.18.0->dataclasses-json->dagshub) (24.2)\n",
      "Requirement already satisfied: annotated-types>=0.6.0 in /home/kagmajn/um/env/lib/python3.12/site-packages (from pydantic>=2.0.0->dagshub-annotation-converter>=0.1.0->dagshub) (0.7.0)\n",
      "Requirement already satisfied: pydantic-core==2.23.4 in /home/kagmajn/um/env/lib/python3.12/site-packages (from pydantic>=2.0.0->dagshub-annotation-converter>=0.1.0->dagshub) (2.23.4)\n",
      "Requirement already satisfied: charset-normalizer<4,>=2 in /home/kagmajn/um/env/lib/python3.12/site-packages (from requests<3,>=2.26->gql[requests]->dagshub) (3.4.0)\n",
      "Requirement already satisfied: mypy-extensions>=0.3.0 in /home/kagmajn/um/env/lib/python3.12/site-packages (from typing-inspect<1,>=0.4.0->dataclasses-json->dagshub) (1.0.0)\n",
      "Requirement already satisfied: multidict>=4.0 in /home/kagmajn/um/env/lib/python3.12/site-packages (from yarl<2.0,>=1.6->gql[requests]->dagshub) (6.1.0)\n",
      "Requirement already satisfied: propcache>=0.2.0 in /home/kagmajn/um/env/lib/python3.12/site-packages (from yarl<2.0,>=1.6->gql[requests]->dagshub) (0.2.0)\n",
      "Downloading dagshub-0.3.45-py3-none-any.whl (252 kB)\n",
      "\u001b[2K   \u001b[90m━━━━━━━━━━━━━━━━━━━━━━━━━━━━━━━━━━━━━━━━\u001b[0m \u001b[32m252.2/252.2 kB\u001b[0m \u001b[31m3.3 MB/s\u001b[0m eta \u001b[36m0:00:00\u001b[0ma \u001b[36m0:00:01\u001b[0m\n",
      "\u001b[?25hDownloading appdirs-1.4.4-py2.py3-none-any.whl (9.6 kB)\n",
      "Downloading dacite-1.6.0-py3-none-any.whl (12 kB)\n",
      "Downloading dagshub_annotation_converter-0.1.2-py3-none-any.whl (33 kB)\n",
      "Downloading pathvalidate-3.2.1-py3-none-any.whl (23 kB)\n",
      "Downloading treelib-1.7.0-py3-none-any.whl (18 kB)\n",
      "Downloading backoff-2.2.1-py3-none-any.whl (15 kB)\n",
      "Downloading gql-3.5.0-py2.py3-none-any.whl (74 kB)\n",
      "\u001b[2K   \u001b[90m━━━━━━━━━━━━━━━━━━━━━━━━━━━━━━━━━━━━━━━━\u001b[0m \u001b[32m74.0/74.0 kB\u001b[0m \u001b[31m9.5 MB/s\u001b[0m eta \u001b[36m0:00:00\u001b[0m\n",
      "\u001b[?25hInstalling collected packages: appdirs, treelib, pathvalidate, dacite, backoff, gql, dagshub-annotation-converter, dagshub\n",
      "Successfully installed appdirs-1.4.4 backoff-2.2.1 dacite-1.6.0 dagshub-0.3.45 dagshub-annotation-converter-0.1.2 gql-3.5.0 pathvalidate-3.2.1 treelib-1.7.0\n"
     ]
    }
   ],
   "source": [
    "!pip install dagshub"
   ]
  }
 ],
 "metadata": {
  "kernelspec": {
   "display_name": "env",
   "language": "python",
   "name": "python3"
  },
  "language_info": {
   "codemirror_mode": {
    "name": "ipython",
    "version": 3
   },
   "file_extension": ".py",
   "mimetype": "text/x-python",
   "name": "python",
   "nbconvert_exporter": "python",
   "pygments_lexer": "ipython3",
   "version": "3.12.3"
  }
 },
 "nbformat": 4,
 "nbformat_minor": 2
}
